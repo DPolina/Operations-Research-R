{
 "cells": [
  {
   "cell_type": "code",
   "execution_count": null,
   "metadata": {},
   "outputs": [],
   "source": [
    "import matplotlib.pyplot as plt\n",
    "import numpy as np\n",
    "\n",
    "# Функция F(x)\n",
    "def f(x):\n",
    "    return (x - 5)**2 + 6*x\n",
    "\n",
    "# Диапазон значений\n",
    "x = np.linspace(-2, 12, 100)\n",
    "\n",
    "# График функции\n",
    "plt.plot(x, f(x), label='F(x)')\n",
    "plt.xlabel('x')\n",
    "plt.ylabel('F(x)')\n",
    "plt.legend()\n",
    "\n",
    "# Первая производная\n",
    "df = lambda x: 2*(x - 5) + 6\n",
    "\n",
    "# График первой производной\n",
    "plt.plot(x, df(x), label=\"F'(x)\")\n",
    "plt.xlabel('x')\n",
    "plt.ylabel(\"F'(x)\")\n",
    "plt.legend()\n",
    "\n",
    "# Вторая производная\n",
    "ddf = lambda x: 2\n",
    "\n",
    "# График второй производной\n",
    "plt.plot(x, ddf(x), label=\"F''(x)\")\n",
    "plt.xlabel('x')\n",
    "plt.ylabel(\"F''(x)\")\n",
    "plt.legend()\n",
    "\n",
    "# Точка минимума\n",
    "minima = np.where(df(x) == 0)[0]\n",
    "\n",
    "# Отображение точки минимума\n",
    "if len(minima) > 0:\n",
    "    plt.plot(x[minima], f(x[minima]), 'ro')\n",
    "    plt.text(x[minima], f(x[minima]), 'Minimum', color='red')\n",
    "\n",
    "plt.show()\n",
    "\n",
    "# Вывод информации\n",
    "print('Минимум:')\n",
    "print('x =', x[minima])\n",
    "print('F(x) =', f(x[minima]))"
   ]
  }
 ],
 "metadata": {
  "language_info": {
   "name": "python"
  }
 },
 "nbformat": 4,
 "nbformat_minor": 2
}
